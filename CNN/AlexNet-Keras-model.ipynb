{
 "cells": [
  {
   "cell_type": "code",
   "execution_count": 1,
   "metadata": {},
   "outputs": [
    {
     "name": "stderr",
     "output_type": "stream",
     "text": [
      "Using TensorFlow backend.\n"
     ]
    }
   ],
   "source": [
    "from keras.layers import Dense, Conv2D, MaxPool2D, Flatten\n",
    "from keras.models import Sequential"
   ]
  },
  {
   "cell_type": "code",
   "execution_count": 2,
   "metadata": {},
   "outputs": [],
   "source": [
    "def AlexNet():\n",
    "    # 原模型nb_class为1000,输入为(227,227,3)\n",
    "    model = Sequential()\n",
    "    \n",
    "    model.add(Conv2D(filters=96,kernel_size=11,strides=4,padding='valid',activation='relu',input_shape=(227,227,3),name='Conv_1'))\n",
    "    model.add(MaxPool2D(pool_size=(3,3),strides=2,name='Maxpool_2'))\n",
    "    model.add(Conv2D(filters=256,kernel_size=5,strides=1,padding='same',activation='relu',name='Conv_3'))\n",
    "    model.add(MaxPool2D(pool_size=(3,3),strides=2,name='Maxpool_4'))\n",
    "    model.add(Conv2D(filters=384,kernel_size=3,strides=1,padding='same',activation='relu',name='Conv_5'))\n",
    "    model.add(Conv2D(filters=384,kernel_size=3,strides=1,padding='same',activation='relu',name='Conv_6'))\n",
    "    model.add(Conv2D(filters=384,kernel_size=3,strides=1,padding='same',activation='relu',name='Conv_7'))\n",
    "    model.add(MaxPool2D(pool_size=(3,3),strides=2,name='MaxPool_8'))\n",
    "    \n",
    "    model.add(Flatten())\n",
    "    \n",
    "    model.add(Dense(units=4096,activation='relu',name='fc_9'))\n",
    "    model.add(Dense(units=4096,activation='relu',name='fc_10'))\n",
    "    \n",
    "    model.add(Dense(units=1000,activation='softmax',name='output_layer'))\n",
    "    \n",
    "    return model"
   ]
  },
  {
   "cell_type": "code",
   "execution_count": 3,
   "metadata": {},
   "outputs": [
    {
     "name": "stdout",
     "output_type": "stream",
     "text": [
      "WARNING:tensorflow:From D:\\Anaconda3\\envs\\tf_he\\lib\\site-packages\\keras\\backend\\tensorflow_backend.py:1205: calling reduce_prod (from tensorflow.python.ops.math_ops) with keep_dims is deprecated and will be removed in a future version.\n",
      "Instructions for updating:\n",
      "keep_dims is deprecated, use keepdims instead\n"
     ]
    }
   ],
   "source": [
    "model = AlexNet()"
   ]
  },
  {
   "cell_type": "code",
   "execution_count": 4,
   "metadata": {},
   "outputs": [
    {
     "name": "stdout",
     "output_type": "stream",
     "text": [
      "_________________________________________________________________\n",
      "Layer (type)                 Output Shape              Param #   \n",
      "=================================================================\n",
      "Conv_1 (Conv2D)              (None, 55, 55, 96)        34944     \n",
      "_________________________________________________________________\n",
      "Maxpool_2 (MaxPooling2D)     (None, 27, 27, 96)        0         \n",
      "_________________________________________________________________\n",
      "Conv_3 (Conv2D)              (None, 27, 27, 256)       614656    \n",
      "_________________________________________________________________\n",
      "Maxpool_4 (MaxPooling2D)     (None, 13, 13, 256)       0         \n",
      "_________________________________________________________________\n",
      "Conv_5 (Conv2D)              (None, 13, 13, 384)       885120    \n",
      "_________________________________________________________________\n",
      "Conv_6 (Conv2D)              (None, 13, 13, 384)       1327488   \n",
      "_________________________________________________________________\n",
      "Conv_7 (Conv2D)              (None, 13, 13, 384)       1327488   \n",
      "_________________________________________________________________\n",
      "MaxPool_8 (MaxPooling2D)     (None, 6, 6, 384)         0         \n",
      "_________________________________________________________________\n",
      "flatten_1 (Flatten)          (None, 13824)             0         \n",
      "_________________________________________________________________\n",
      "fc_9 (Dense)                 (None, 4096)              56627200  \n",
      "_________________________________________________________________\n",
      "fc_10 (Dense)                (None, 4096)              16781312  \n",
      "_________________________________________________________________\n",
      "output_layer (Dense)         (None, 1000)              4097000   \n",
      "=================================================================\n",
      "Total params: 81,695,208\n",
      "Trainable params: 81,695,208\n",
      "Non-trainable params: 0\n",
      "_________________________________________________________________\n"
     ]
    }
   ],
   "source": [
    "model.summary()"
   ]
  }
 ],
 "metadata": {
  "kernelspec": {
   "display_name": "Python 3",
   "language": "python",
   "name": "python3"
  },
  "language_info": {
   "codemirror_mode": {
    "name": "ipython",
    "version": 3
   },
   "file_extension": ".py",
   "mimetype": "text/x-python",
   "name": "python",
   "nbconvert_exporter": "python",
   "pygments_lexer": "ipython3",
   "version": "3.5.5"
  },
  "toc": {
   "base_numbering": 1,
   "nav_menu": {},
   "number_sections": true,
   "sideBar": true,
   "skip_h1_title": false,
   "title_cell": "Table of Contents",
   "title_sidebar": "Contents",
   "toc_cell": false,
   "toc_position": {},
   "toc_section_display": true,
   "toc_window_display": false
  }
 },
 "nbformat": 4,
 "nbformat_minor": 2
}
